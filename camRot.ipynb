{
 "cells": [
  {
   "cell_type": "code",
   "execution_count": 1,
   "metadata": {},
   "outputs": [
    {
     "ename": "ModuleNotFoundError",
     "evalue": "No module named 'quaternion'",
     "output_type": "error",
     "traceback": [
      "\u001b[1;31m---------------------------------------------------------------------------\u001b[0m",
      "\u001b[1;31mModuleNotFoundError\u001b[0m                       Traceback (most recent call last)",
      "\u001b[1;32m<ipython-input-1-7815f9ca7fa6>\u001b[0m in \u001b[0;36m<module>\u001b[1;34m\u001b[0m\n\u001b[0;32m      2\u001b[0m \u001b[1;32mfrom\u001b[0m \u001b[0mscipy\u001b[0m\u001b[1;33m.\u001b[0m\u001b[0mlinalg\u001b[0m \u001b[1;32mimport\u001b[0m \u001b[0mblock_diag\u001b[0m\u001b[1;33m\u001b[0m\u001b[1;33m\u001b[0m\u001b[0m\n\u001b[0;32m      3\u001b[0m \u001b[1;32mimport\u001b[0m \u001b[0mnumpy\u001b[0m \u001b[1;32mas\u001b[0m \u001b[0mnp\u001b[0m\u001b[1;33m\u001b[0m\u001b[1;33m\u001b[0m\u001b[0m\n\u001b[1;32m----> 4\u001b[1;33m \u001b[1;32mimport\u001b[0m \u001b[0mquaternion\u001b[0m\u001b[1;33m\u001b[0m\u001b[1;33m\u001b[0m\u001b[0m\n\u001b[0m\u001b[0;32m      5\u001b[0m \u001b[1;32mimport\u001b[0m \u001b[0mmath\u001b[0m\u001b[1;33m\u001b[0m\u001b[1;33m\u001b[0m\u001b[0m\n",
      "\u001b[1;31mModuleNotFoundError\u001b[0m: No module named 'quaternion'"
     ]
    }
   ],
   "source": [
    "from scipy.spatial.transform import Rotation as R\n",
    "from scipy.linalg import block_diag\n",
    "import numpy as np\n",
    "import quaternion\n",
    "import math"
   ]
  },
  {
   "cell_type": "code",
   "execution_count": null,
   "metadata": {},
   "outputs": [],
   "source": [
    "def rotVbyQ(vec, qt):\n",
    "    \"\"\"use quaternion to rotate vector\"\"\"\n",
    "    qn = qt.normalized()\n",
    "    return (qn * np.quaternion(0, *vec)*qn.inverse()).vec\n",
    "\n",
    "def qnFromVec(v, theta):\n",
    "    \"\"\"convert a vec 3d to quaternion\"\"\"\n",
    "    return np.quaternion(0, *v).normalized()*math.sin(theta/2)+quaternion.one*math.cos(theta/2)\n",
    "\n",
    "def rmatFromQ(q):\n",
    "    q = q.normalized()\n",
    "    return block_diag(R.from_quat(q.vec.tolist()+[q.w,]).as_dcm(),[[1,]])\n",
    "def tmatFromV(x,y,z):\n",
    "    return [[1,0,0,x],[0,1,0,y],[0,0,1,z],[0,0,0,1]]\n",
    "def projFrom(D,realX,realY,widthX,heightY):\n",
    "    return np.dot([[widthX/realX,0,0,widthX/2],\n",
    "                   [0,heightY/realY,0,heightY/2],\n",
    "                   [0,0,1,0],\n",
    "                   [0,0,0,1]],\n",
    "                  [[1,0,0,0],\n",
    "                   [0,1,0,0],\n",
    "                   [0,0,1,-D],\n",
    "                   [0,0,1/D,0]])\n",
    "def world2img(rot,trans,proj,vec):\n",
    "    if rot is None:\n",
    "        rot = np.eye(4)\n",
    "    if trans is None:\n",
    "        trans = np.eye(4)\n",
    "    if proj is None:\n",
    "        proj = np.eye(4)\n",
    "    vec = np.array(vec).reshape(-1)\n",
    "    if len(vec)<4:\n",
    "        vec = np.array(vec.tolist()+[1.,])\n",
    "    v4 = np.linalg.multi_dot([proj,rot,trans,vec])\n",
    "    return v4[:3]/v4[-1]\n"
   ]
  },
  {
   "cell_type": "code",
   "execution_count": 2,
   "metadata": {},
   "outputs": [
    {
     "ename": "NameError",
     "evalue": "name 'rmatFromQ' is not defined",
     "output_type": "error",
     "traceback": [
      "\u001b[1;31m---------------------------------------------------------------------------\u001b[0m",
      "\u001b[1;31mNameError\u001b[0m                                 Traceback (most recent call last)",
      "\u001b[1;32m<ipython-input-2-908b2d30f4c8>\u001b[0m in \u001b[0;36m<module>\u001b[1;34m\u001b[0m\n\u001b[1;32m----> 1\u001b[1;33m \u001b[0mrmat\u001b[0m \u001b[1;33m=\u001b[0m \u001b[0mrmatFromQ\u001b[0m\u001b[1;33m(\u001b[0m\u001b[0mqnFromVec\u001b[0m\u001b[1;33m(\u001b[0m\u001b[1;33m(\u001b[0m\u001b[1;36m0\u001b[0m\u001b[1;33m,\u001b[0m\u001b[1;36m0\u001b[0m\u001b[1;33m,\u001b[0m\u001b[1;36m1\u001b[0m\u001b[1;33m)\u001b[0m\u001b[1;33m,\u001b[0m\u001b[0mmath\u001b[0m\u001b[1;33m.\u001b[0m\u001b[0mpi\u001b[0m\u001b[1;33m/\u001b[0m\u001b[1;36m4\u001b[0m\u001b[1;33m)\u001b[0m\u001b[1;33m)\u001b[0m\u001b[1;33m\u001b[0m\u001b[1;33m\u001b[0m\u001b[0m\n\u001b[0m\u001b[0;32m      2\u001b[0m \u001b[0mprint\u001b[0m\u001b[1;33m(\u001b[0m\u001b[0mrmat\u001b[0m\u001b[1;33m)\u001b[0m\u001b[1;33m\u001b[0m\u001b[1;33m\u001b[0m\u001b[0m\n\u001b[0;32m      3\u001b[0m \u001b[0mprint\u001b[0m\u001b[1;33m(\u001b[0m\u001b[0mnp\u001b[0m\u001b[1;33m.\u001b[0m\u001b[0mdot\u001b[0m\u001b[1;33m(\u001b[0m\u001b[0mrmat\u001b[0m\u001b[1;33m,\u001b[0m\u001b[0mnp\u001b[0m\u001b[1;33m.\u001b[0m\u001b[0marray\u001b[0m\u001b[1;33m(\u001b[0m\u001b[1;33m[\u001b[0m\u001b[1;36m1\u001b[0m\u001b[1;33m,\u001b[0m\u001b[1;36m0\u001b[0m\u001b[1;33m,\u001b[0m\u001b[1;36m0\u001b[0m\u001b[1;33m,\u001b[0m\u001b[1;36m1\u001b[0m\u001b[1;33m]\u001b[0m\u001b[1;33m)\u001b[0m\u001b[1;33m)\u001b[0m\u001b[1;33m)\u001b[0m\u001b[1;33m\u001b[0m\u001b[1;33m\u001b[0m\u001b[0m\n\u001b[0;32m      4\u001b[0m \u001b[0mprint\u001b[0m\u001b[1;33m(\u001b[0m\u001b[0mnp\u001b[0m\u001b[1;33m.\u001b[0m\u001b[0mdot\u001b[0m\u001b[1;33m(\u001b[0m\u001b[0mrmat\u001b[0m\u001b[1;33m,\u001b[0m\u001b[0mnp\u001b[0m\u001b[1;33m.\u001b[0m\u001b[0marray\u001b[0m\u001b[1;33m(\u001b[0m\u001b[1;33m[\u001b[0m\u001b[1;36m0\u001b[0m\u001b[1;33m,\u001b[0m\u001b[1;36m1\u001b[0m\u001b[1;33m,\u001b[0m\u001b[1;36m0\u001b[0m\u001b[1;33m,\u001b[0m\u001b[1;36m1\u001b[0m\u001b[1;33m]\u001b[0m\u001b[1;33m)\u001b[0m\u001b[1;33m)\u001b[0m\u001b[1;33m)\u001b[0m\u001b[1;33m\u001b[0m\u001b[1;33m\u001b[0m\u001b[0m\n\u001b[0;32m      5\u001b[0m \u001b[0mprint\u001b[0m\u001b[1;33m(\u001b[0m\u001b[0mnp\u001b[0m\u001b[1;33m.\u001b[0m\u001b[0mdot\u001b[0m\u001b[1;33m(\u001b[0m\u001b[0mrmat\u001b[0m\u001b[1;33m,\u001b[0m\u001b[0mnp\u001b[0m\u001b[1;33m.\u001b[0m\u001b[0marray\u001b[0m\u001b[1;33m(\u001b[0m\u001b[1;33m[\u001b[0m\u001b[1;36m0\u001b[0m\u001b[1;33m,\u001b[0m\u001b[1;36m0\u001b[0m\u001b[1;33m,\u001b[0m\u001b[1;36m1\u001b[0m\u001b[1;33m,\u001b[0m\u001b[1;36m1\u001b[0m\u001b[1;33m]\u001b[0m\u001b[1;33m)\u001b[0m\u001b[1;33m)\u001b[0m\u001b[1;33m)\u001b[0m\u001b[1;33m\u001b[0m\u001b[1;33m\u001b[0m\u001b[0m\n",
      "\u001b[1;31mNameError\u001b[0m: name 'rmatFromQ' is not defined"
     ]
    }
   ],
   "source": [
    "rmat = rmatFromQ(qnFromVec((0,0,1),math.pi/4))\n",
    "print(rmat)\n",
    "print(np.dot(rmat,np.array([1,0,0,1])))\n",
    "print(np.dot(rmat,np.array([0,1,0,1])))\n",
    "print(np.dot(rmat,np.array([0,0,1,1])))"
   ]
  },
  {
   "cell_type": "code",
   "execution_count": 3,
   "metadata": {},
   "outputs": [
    {
     "ename": "NameError",
     "evalue": "name 'projFrom' is not defined",
     "output_type": "error",
     "traceback": [
      "\u001b[1;31m---------------------------------------------------------------------------\u001b[0m",
      "\u001b[1;31mNameError\u001b[0m                                 Traceback (most recent call last)",
      "\u001b[1;32m<ipython-input-3-8a7936e95244>\u001b[0m in \u001b[0;36m<module>\u001b[1;34m\u001b[0m\n\u001b[1;32m----> 1\u001b[1;33m \u001b[0mproj\u001b[0m \u001b[1;33m=\u001b[0m \u001b[0mprojFrom\u001b[0m\u001b[1;33m(\u001b[0m\u001b[1;36m2.000\u001b[0m\u001b[1;33m,\u001b[0m\u001b[1;36m2.460\u001b[0m\u001b[1;33m,\u001b[0m\u001b[1;36m2.122\u001b[0m\u001b[1;33m,\u001b[0m\u001b[1;36m4000\u001b[0m\u001b[1;33m,\u001b[0m\u001b[1;36m3000\u001b[0m\u001b[1;33m)\u001b[0m  \u001b[1;31m# image is (4000 wid, 3000 high)\u001b[0m\u001b[1;33m\u001b[0m\u001b[1;33m\u001b[0m\u001b[0m\n\u001b[0m\u001b[0;32m      2\u001b[0m \u001b[0mv4\u001b[0m\u001b[1;33m=\u001b[0m\u001b[0mnp\u001b[0m\u001b[1;33m.\u001b[0m\u001b[0mdot\u001b[0m\u001b[1;33m(\u001b[0m\u001b[0mproj\u001b[0m\u001b[1;33m,\u001b[0m\u001b[0mnp\u001b[0m\u001b[1;33m.\u001b[0m\u001b[0marray\u001b[0m\u001b[1;33m(\u001b[0m\u001b[1;33m[\u001b[0m\u001b[1;36m0\u001b[0m\u001b[1;33m,\u001b[0m\u001b[1;36m0.5\u001b[0m\u001b[1;33m,\u001b[0m\u001b[1;36m5\u001b[0m\u001b[1;33m,\u001b[0m\u001b[1;36m1\u001b[0m\u001b[1;33m]\u001b[0m\u001b[1;33m)\u001b[0m\u001b[1;33m)\u001b[0m\u001b[1;33m\u001b[0m\u001b[1;33m\u001b[0m\u001b[0m\n\u001b[0;32m      3\u001b[0m \u001b[0mprint\u001b[0m\u001b[1;33m(\u001b[0m\u001b[0mv4\u001b[0m\u001b[1;33m)\u001b[0m\u001b[1;33m\u001b[0m\u001b[1;33m\u001b[0m\u001b[0m\n\u001b[0;32m      4\u001b[0m \u001b[0mprint\u001b[0m\u001b[1;33m(\u001b[0m\u001b[0mv4\u001b[0m\u001b[1;33m/\u001b[0m\u001b[0mv4\u001b[0m\u001b[1;33m[\u001b[0m\u001b[1;33m-\u001b[0m\u001b[1;36m1\u001b[0m\u001b[1;33m]\u001b[0m\u001b[1;33m)\u001b[0m\u001b[1;33m\u001b[0m\u001b[1;33m\u001b[0m\u001b[0m\n\u001b[0;32m      5\u001b[0m \u001b[0mproj\u001b[0m \u001b[1;33m=\u001b[0m \u001b[0mprojFrom\u001b[0m\u001b[1;33m(\u001b[0m\u001b[1;36m1.000\u001b[0m\u001b[1;33m,\u001b[0m\u001b[1;36m1.230\u001b[0m\u001b[1;33m,\u001b[0m\u001b[1;36m1.061\u001b[0m\u001b[1;33m,\u001b[0m\u001b[1;36m4000\u001b[0m\u001b[1;33m,\u001b[0m\u001b[1;36m3000\u001b[0m\u001b[1;33m)\u001b[0m  \u001b[1;31m# image is (4000 wid, 3000 high)\u001b[0m\u001b[1;33m\u001b[0m\u001b[1;33m\u001b[0m\u001b[0m\n",
      "\u001b[1;31mNameError\u001b[0m: name 'projFrom' is not defined"
     ]
    }
   ],
   "source": [
    "proj = projFrom(2.000,2.460,2.122,4000,3000)  # image is (4000 wid, 3000 high)\n",
    "v4=np.dot(proj,np.array([0,0.5,5,1]))\n",
    "print(v4)\n",
    "print(v4/v4[-1])\n",
    "proj = projFrom(1.000,1.230,1.061,4000,3000)  # image is (4000 wid, 3000 high)\n",
    "v4=np.dot(proj,np.array([0,0.5,5,1]))\n",
    "print(v4)\n",
    "print(v4/v4[-1])\n"
   ]
  },
  {
   "cell_type": "code",
   "execution_count": 4,
   "metadata": {},
   "outputs": [
    {
     "ename": "NameError",
     "evalue": "name 'rmatFromQ' is not defined",
     "output_type": "error",
     "traceback": [
      "\u001b[1;31m---------------------------------------------------------------------------\u001b[0m",
      "\u001b[1;31mNameError\u001b[0m                                 Traceback (most recent call last)",
      "\u001b[1;32m<ipython-input-4-a60d64c6c643>\u001b[0m in \u001b[0;36m<module>\u001b[1;34m\u001b[0m\n\u001b[1;32m----> 1\u001b[1;33m \u001b[0mrot\u001b[0m \u001b[1;33m=\u001b[0m \u001b[0mrmatFromQ\u001b[0m\u001b[1;33m(\u001b[0m\u001b[0mqnFromVec\u001b[0m\u001b[1;33m(\u001b[0m\u001b[1;33m(\u001b[0m\u001b[1;36m0\u001b[0m\u001b[1;33m,\u001b[0m\u001b[1;36m1\u001b[0m\u001b[1;33m,\u001b[0m\u001b[1;36m0\u001b[0m\u001b[1;33m)\u001b[0m\u001b[1;33m,\u001b[0m\u001b[0mmath\u001b[0m\u001b[1;33m.\u001b[0m\u001b[0mradians\u001b[0m\u001b[1;33m(\u001b[0m\u001b[1;36m45\u001b[0m\u001b[1;33m)\u001b[0m\u001b[1;33m)\u001b[0m\u001b[1;33m)\u001b[0m\u001b[1;33m\u001b[0m\u001b[1;33m\u001b[0m\u001b[0m\n\u001b[0m\u001b[0;32m      2\u001b[0m \u001b[0mprint\u001b[0m\u001b[1;33m(\u001b[0m\u001b[0mworld2img\u001b[0m\u001b[1;33m(\u001b[0m\u001b[1;32mNone\u001b[0m\u001b[1;33m,\u001b[0m\u001b[1;32mNone\u001b[0m\u001b[1;33m,\u001b[0m \u001b[0mproj\u001b[0m\u001b[1;33m,\u001b[0m \u001b[0mnp\u001b[0m\u001b[1;33m.\u001b[0m\u001b[0marray\u001b[0m\u001b[1;33m(\u001b[0m\u001b[1;33m[\u001b[0m\u001b[1;36m0\u001b[0m\u001b[1;33m,\u001b[0m\u001b[1;36m0\u001b[0m\u001b[1;33m,\u001b[0m\u001b[1;36m1\u001b[0m\u001b[1;33m]\u001b[0m\u001b[1;33m)\u001b[0m\u001b[1;33m)\u001b[0m\u001b[1;33m)\u001b[0m\u001b[1;33m\u001b[0m\u001b[1;33m\u001b[0m\u001b[0m\n\u001b[0;32m      3\u001b[0m \u001b[0mprint\u001b[0m\u001b[1;33m(\u001b[0m\u001b[0mworld2img\u001b[0m\u001b[1;33m(\u001b[0m\u001b[0mrot\u001b[0m\u001b[1;33m,\u001b[0m\u001b[1;32mNone\u001b[0m\u001b[1;33m,\u001b[0m \u001b[0mproj\u001b[0m\u001b[1;33m,\u001b[0m \u001b[0mnp\u001b[0m\u001b[1;33m.\u001b[0m\u001b[0marray\u001b[0m\u001b[1;33m(\u001b[0m\u001b[1;33m[\u001b[0m\u001b[1;36m0\u001b[0m\u001b[1;33m,\u001b[0m\u001b[1;36m0\u001b[0m\u001b[1;33m,\u001b[0m\u001b[1;36m1\u001b[0m\u001b[1;33m]\u001b[0m\u001b[1;33m)\u001b[0m\u001b[1;33m)\u001b[0m\u001b[1;33m)\u001b[0m\u001b[1;33m\u001b[0m\u001b[1;33m\u001b[0m\u001b[0m\n\u001b[0;32m      4\u001b[0m \u001b[0mprint\u001b[0m\u001b[1;33m(\u001b[0m\u001b[0mworld2img\u001b[0m\u001b[1;33m(\u001b[0m\u001b[1;32mNone\u001b[0m\u001b[1;33m,\u001b[0m\u001b[1;32mNone\u001b[0m\u001b[1;33m,\u001b[0m \u001b[0mproj\u001b[0m\u001b[1;33m,\u001b[0m \u001b[0mnp\u001b[0m\u001b[1;33m.\u001b[0m\u001b[0marray\u001b[0m\u001b[1;33m(\u001b[0m\u001b[1;33m[\u001b[0m\u001b[0mnp\u001b[0m\u001b[1;33m.\u001b[0m\u001b[0msqrt\u001b[0m\u001b[1;33m(\u001b[0m\u001b[1;36m2\u001b[0m\u001b[1;33m)\u001b[0m\u001b[1;33m/\u001b[0m\u001b[1;36m2\u001b[0m\u001b[1;33m,\u001b[0m\u001b[1;36m0\u001b[0m\u001b[1;33m,\u001b[0m\u001b[0mnp\u001b[0m\u001b[1;33m.\u001b[0m\u001b[0msqrt\u001b[0m\u001b[1;33m(\u001b[0m\u001b[1;36m2\u001b[0m\u001b[1;33m)\u001b[0m\u001b[1;33m/\u001b[0m\u001b[1;36m2\u001b[0m\u001b[1;33m]\u001b[0m\u001b[1;33m)\u001b[0m\u001b[1;33m)\u001b[0m\u001b[1;33m)\u001b[0m\u001b[1;33m\u001b[0m\u001b[1;33m\u001b[0m\u001b[0m\n\u001b[0;32m      5\u001b[0m \u001b[0mprint\u001b[0m\u001b[1;33m(\u001b[0m\u001b[0mworld2img\u001b[0m\u001b[1;33m(\u001b[0m\u001b[1;32mNone\u001b[0m\u001b[1;33m,\u001b[0m\u001b[1;32mNone\u001b[0m\u001b[1;33m,\u001b[0m \u001b[0mproj\u001b[0m\u001b[1;33m,\u001b[0m \u001b[0mnp\u001b[0m\u001b[1;33m.\u001b[0m\u001b[0marray\u001b[0m\u001b[1;33m(\u001b[0m\u001b[1;33m[\u001b[0m\u001b[1;36m1\u001b[0m\u001b[1;33m,\u001b[0m\u001b[1;36m0\u001b[0m\u001b[1;33m,\u001b[0m\u001b[1;36m1\u001b[0m\u001b[1;33m]\u001b[0m\u001b[1;33m)\u001b[0m\u001b[1;33m)\u001b[0m\u001b[1;33m)\u001b[0m\u001b[1;33m\u001b[0m\u001b[1;33m\u001b[0m\u001b[0m\n",
      "\u001b[1;31mNameError\u001b[0m: name 'rmatFromQ' is not defined"
     ]
    }
   ],
   "source": [
    "rot = rmatFromQ(qnFromVec((0,1,0),math.radians(45)))\n",
    "print(world2img(None,None, proj, np.array([0,0,1])))\n",
    "print(world2img(rot,None, proj, np.array([0,0,1])))\n",
    "print(world2img(None,None, proj, np.array([np.sqrt(2)/2,0,np.sqrt(2)/2])))\n",
    "print(world2img(None,None, proj, np.array([1,0,1])))"
   ]
  },
  {
   "cell_type": "code",
   "execution_count": 133,
   "metadata": {},
   "outputs": [],
   "source": [
    "import sympy\n",
    "from sympy.algebras.quaternion import Quaternion\n",
    "from sympy import symbols, trigsimp, cos, sin, simplify"
   ]
  },
  {
   "cell_type": "code",
   "execution_count": 150,
   "metadata": {},
   "outputs": [
    {
     "name": "stdout",
     "output_type": "stream",
     "text": [
      "Matrix([[-2*(q2**2 + q3**2)/(q0**2 + q1**2 + q2**2 + q3**2) + 1, 2*(-q0*q3 + q1*q2)/(q0**2 + q1**2 + q2**2 + q3**2), 2*(q0*q2 + q1*q3)/(q0**2 + q1**2 + q2**2 + q3**2)], [2*(q0*q3 + q1*q2)/(q0**2 + q1**2 + q2**2 + q3**2), -2*(q1**2 + q3**2)/(q0**2 + q1**2 + q2**2 + q3**2) + 1, 2*(-q0*q1 + q2*q3)/(q0**2 + q1**2 + q2**2 + q3**2)], [2*(-q0*q2 + q1*q3)/(q0**2 + q1**2 + q2**2 + q3**2), 2*(q0*q1 + q2*q3)/(q0**2 + q1**2 + q2**2 + q3**2), -2*(q1**2 + q2**2)/(q0**2 + q1**2 + q2**2 + q3**2) + 1]])\n"
     ]
    }
   ],
   "source": [
    "x,y,z,q0,q1,q2,q3 = sympy.symbols('x y z q0 q1 q2 q3')\n",
    "D = sympy.symbols('D')\n",
    "qsym = Quaternion(q0,q1,q2,q3)\n",
    "print(qsym.to_rotation_matrix())"
   ]
  },
  {
   "cell_type": "code",
   "execution_count": 154,
   "metadata": {},
   "outputs": [],
   "source": [
    "rote_X = qsym*Quaternion(0,1,0,0)*qsym.inverse()\n",
    "rote_Y = qsym*Quaternion(0,0,1,0)*qsym.inverse()\n",
    "rote_Z = qsym*Quaternion(0,0,0,1)*qsym.inverse()\n",
    "rotMsym = block_diag(np.array([[rote_X.b,rote_Y.b,rote_Z.b],\n",
    "          [rote_X.c,rote_Y.c,rote_Z.c],\n",
    "          [rote_X.d,rote_Y.d,rote_Z.d],]),[[1,]])"
   ]
  },
  {
   "cell_type": "code",
   "execution_count": 199,
   "metadata": {},
   "outputs": [],
   "source": [
    "projsym = projFrom(D,1.230,1.061,4000,3000)"
   ]
  },
  {
   "cell_type": "code",
   "execution_count": 200,
   "metadata": {},
   "outputs": [],
   "source": [
    "imgxyzSym = world2img(rotMsym,np.eye(4),projsym,np.array([x,y,z,1]))"
   ]
  },
  {
   "cell_type": "code",
   "execution_count": 201,
   "metadata": {},
   "outputs": [
    {
     "name": "stdout",
     "output_type": "stream",
     "text": [
      "Matrix([[4044.31310483555], [408.617551505243], [-0.242640687119285]])\n",
      "Matrix([[4015.63858415236], [418.068207352072], [-0.237165653960366]])\n"
     ]
    }
   ],
   "source": [
    "qntest = qnFromVec((1,1,1),math.radians(45))\n",
    "print(sympy.Matrix(imgxyzSym).subs([(x,0),(y,0),(z,1),\n",
    "                                    (q0,qntest.w),(q1,qntest.x),\n",
    "                                    (q2,qntest.y),(q3,qntest.z),\n",
    "                                    (D,1)]))\n",
    "print(sympy.Matrix(imgxyzSym).subs([(x,0),(y,0),(z,1),\n",
    "                                    (q0,qntest.w+0.01),(q1,qntest.x),\n",
    "                                    (q2,qntest.y),(q3,qntest.z),\n",
    "                                    (D,1)]))"
   ]
  },
  {
   "cell_type": "code",
   "execution_count": 202,
   "metadata": {},
   "outputs": [
    {
     "name": "stdout",
     "output_type": "stream",
     "text": [
      "Matrix([[-2908.20313493896, 953.312389322036, 0.557117648955496]])\n",
      "Matrix([[2908.28588044860, -7091.60808070806, -1.23147757622177]])\n",
      "Matrix([[8589.60685218335, 953.312389367511, -1.23147757622177]])\n",
      "Matrix([[663.134503156470, 2151.88737296899, 0.133237252589180]])\n",
      "Matrix([[4041.12352375705, 1356.20147045188, -0.479643253378792]])\n",
      "Matrix([[-2540.33067199089, 3513.57080755292, 0.781151681664149]])\n",
      "Matrix([[0, -2.27373675443232e-8, 1.24262826085020]])\n"
     ]
    }
   ],
   "source": [
    "delta = 0.00001\n",
    "numDif_q0 = (sympy.Matrix(imgxyzSym).subs([(x,0),(y,0),(z,1),\n",
    "                                    (q0,qntest.w+delta),(q1,qntest.x),\n",
    "                                    (q2,qntest.y),(q3,qntest.z),\n",
    "                                    (D,1)]) - sympy.Matrix(imgxyzSym).subs([(x,0),(y,0),(z,1),\n",
    "                                    (q0,qntest.w),(q1,qntest.x),\n",
    "                                    (q2,qntest.y),(q3,qntest.z),\n",
    "                                    (D,1)]))/delta\n",
    "numDif_q1 = (sympy.Matrix(imgxyzSym).subs([(x,0),(y,0),(z,1),\n",
    "                                    (q0,qntest.w),(q1,qntest.x+delta),\n",
    "                                    (q2,qntest.y),(q3,qntest.z),\n",
    "                                    (D,1)]) - sympy.Matrix(imgxyzSym).subs([(x,0),(y,0),(z,1),\n",
    "                                    (q0,qntest.w),(q1,qntest.x),\n",
    "                                    (q2,qntest.y),(q3,qntest.z),\n",
    "                                    (D,1)]))/delta\n",
    "numDif_q2 = (sympy.Matrix(imgxyzSym).subs([(x,0),(y,0),(z,1),\n",
    "                                    (q0,qntest.w),(q1,qntest.x),\n",
    "                                    (q2,qntest.y+delta),(q3,qntest.z),\n",
    "                                    (D,1)]) - sympy.Matrix(imgxyzSym).subs([(x,0),(y,0),(z,1),\n",
    "                                    (q0,qntest.w),(q1,qntest.x),\n",
    "                                    (q2,qntest.y),(q3,qntest.z),\n",
    "                                    (D,1)]))/delta\n",
    "numDif_q3 = (sympy.Matrix(imgxyzSym).subs([(x,0),(y,0),(z,1),\n",
    "                                    (q0,qntest.w),(q1,qntest.x),\n",
    "                                    (q2,qntest.y),(q3,qntest.z+delta),\n",
    "                                    (D,1)]) - sympy.Matrix(imgxyzSym).subs([(x,0),(y,0),(z,1),\n",
    "                                    (q0,qntest.w),(q1,qntest.x),\n",
    "                                    (q2,qntest.y),(q3,qntest.z),\n",
    "                                    (D,1)]))/delta\n",
    "numDif_x = (sympy.Matrix(imgxyzSym).subs([(x,0+delta),(y,0),(z,1),\n",
    "                                    (q0,qntest.w),(q1,qntest.x),\n",
    "                                    (q2,qntest.y),(q3,qntest.z),\n",
    "                                    (D,1)]) - sympy.Matrix(imgxyzSym).subs([(x,0),(y,0),(z,1),\n",
    "                                    (q0,qntest.w),(q1,qntest.x),\n",
    "                                    (q2,qntest.y),(q3,qntest.z),\n",
    "                                    (D,1)]))/delta\n",
    "numDif_y = (sympy.Matrix(imgxyzSym).subs([(x,0),(y,0+delta),(z,1),\n",
    "                                    (q0,qntest.w),(q1,qntest.x),\n",
    "                                    (q2,qntest.y),(q3,qntest.z),\n",
    "                                    (D,1)]) - sympy.Matrix(imgxyzSym).subs([(x,0),(y,0),(z,1),\n",
    "                                    (q0,qntest.w),(q1,qntest.x),\n",
    "                                    (q2,qntest.y),(q3,qntest.z),\n",
    "                                    (D,1)]))/delta\n",
    "numDif_z = (sympy.Matrix(imgxyzSym).subs([(x,0),(y,0),(z,1+delta),\n",
    "                                    (q0,qntest.w),(q1,qntest.x),\n",
    "                                    (q2,qntest.y),(q3,qntest.z),\n",
    "                                    (D,1)]) - sympy.Matrix(imgxyzSym).subs([(x,0),(y,0),(z,1),\n",
    "                                    (q0,qntest.w),(q1,qntest.x),\n",
    "                                    (q2,qntest.y),(q3,qntest.z),\n",
    "                                    (D,1)]))/delta\n",
    "print(numDif_q0.T)\n",
    "print(numDif_q1.T)\n",
    "print(numDif_q2.T)\n",
    "print(numDif_q3.T)\n",
    "print(numDif_x.T)\n",
    "print(numDif_y.T)\n",
    "print(numDif_z.T)\n"
   ]
  },
  {
   "cell_type": "code",
   "execution_count": 203,
   "metadata": {},
   "outputs": [
    {
     "name": "stdout",
     "output_type": "stream",
     "text": [
      "Matrix([[-2908.24450714611, 953.320716526020, 0.557127425869392], [2908.24450714610, -7091.55557754806, -1.23144294602546], [8589.53428181346, 953.320716526020, -1.23144294602546], [663.163548010500, 2151.88562737781, 0.133234969064807], [4041.10792559117, 1356.19623570745, -0.479641402028536], [-2540.34664127980, 3513.59289477649, 0.781156592193540], [0, 0, 1.24264068711929]])\n"
     ]
    }
   ],
   "source": [
    "obJacob = sympy.Matrix(imgxyzSym).jacobian([q0,q1,q2,q3,x,y,z]).T\n",
    "print(obJacob.subs([(x,0),(y,0),(z,1),\n",
    "                                    (q0,qntest.w),(q1,qntest.x),\n",
    "                                    (q2,qntest.y),(q3,qntest.z),\n",
    "                                    (D,1)]))"
   ]
  },
  {
   "cell_type": "code",
   "execution_count": 211,
   "metadata": {},
   "outputs": [
    {
     "name": "stdout",
     "output_type": "stream",
     "text": [
      "Matrix([[D*(px*(x*(q0**2 + q1**2 - q2**2 - q3**2) + y*(-2*q0*q3 + 2*q1*q2) + z*(2*q0*q2 + 2*q1*q3))/rx + px*(x*(-2*q0*q2 + 2*q1*q3) + y*(2*q0*q1 + 2*q2*q3) + z*(q0**2 - q1**2 - q2**2 + q3**2))/(2*D))*(-x*(4*q0**2*q2 - 4*q0*q1*q3 - 2*q2) - y*(-4*q0**2*q1 - 4*q0*q2*q3 + 2*q1) - z*(-2*q0**3 + 2*q0*q1**2 + 2*q0*q2**2 - 2*q0*q3**2 + 2*q0))/(x*(-2*q0*q2 + 2*q1*q3) + y*(2*q0*q1 + 2*q2*q3) + z*(q0**2 - q1**2 - q2**2 + q3**2))**2 + D*(px*(x*(-2*q0**3 - 2*q0*q1**2 + 2*q0*q2**2 + 2*q0*q3**2 + 2*q0) + y*(4*q0**2*q3 - 4*q0*q1*q2 - 2*q3) + z*(-4*q0**2*q2 - 4*q0*q1*q3 + 2*q2))/rx + px*(x*(4*q0**2*q2 - 4*q0*q1*q3 - 2*q2) + y*(-4*q0**2*q1 - 4*q0*q2*q3 + 2*q1) + z*(-2*q0**3 + 2*q0*q1**2 + 2*q0*q2**2 - 2*q0*q3**2 + 2*q0))/(2*D))/(x*(-2*q0*q2 + 2*q1*q3) + y*(2*q0*q1 + 2*q2*q3) + z*(q0**2 - q1**2 - q2**2 + q3**2)), D*(py*(x*(2*q0*q3 + 2*q1*q2) + y*(q0**2 - q1**2 + q2**2 - q3**2) + z*(-2*q0*q1 + 2*q2*q3))/ry + py*(x*(-2*q0*q2 + 2*q1*q3) + y*(2*q0*q1 + 2*q2*q3) + z*(q0**2 - q1**2 - q2**2 + q3**2))/(2*D))*(-x*(4*q0**2*q2 - 4*q0*q1*q3 - 2*q2) - y*(-4*q0**2*q1 - 4*q0*q2*q3 + 2*q1) - z*(-2*q0**3 + 2*q0*q1**2 + 2*q0*q2**2 - 2*q0*q3**2 + 2*q0))/(x*(-2*q0*q2 + 2*q1*q3) + y*(2*q0*q1 + 2*q2*q3) + z*(q0**2 - q1**2 - q2**2 + q3**2))**2 + D*(py*(x*(-4*q0**2*q3 - 4*q0*q1*q2 + 2*q3) + y*(-2*q0**3 + 2*q0*q1**2 - 2*q0*q2**2 + 2*q0*q3**2 + 2*q0) + z*(4*q0**2*q1 - 4*q0*q2*q3 - 2*q1))/ry + py*(x*(4*q0**2*q2 - 4*q0*q1*q3 - 2*q2) + y*(-4*q0**2*q1 - 4*q0*q2*q3 + 2*q1) + z*(-2*q0**3 + 2*q0*q1**2 + 2*q0*q2**2 - 2*q0*q3**2 + 2*q0))/(2*D))/(x*(-2*q0*q2 + 2*q1*q3) + y*(2*q0*q1 + 2*q2*q3) + z*(q0**2 - q1**2 - q2**2 + q3**2)), D*(x*(4*q0**2*q2 - 4*q0*q1*q3 - 2*q2) + y*(-4*q0**2*q1 - 4*q0*q2*q3 + 2*q1) + z*(-2*q0**3 + 2*q0*q1**2 + 2*q0*q2**2 - 2*q0*q3**2 + 2*q0))/(x*(-2*q0*q2 + 2*q1*q3) + y*(2*q0*q1 + 2*q2*q3) + z*(q0**2 - q1**2 - q2**2 + q3**2)) + D*(-x*(4*q0**2*q2 - 4*q0*q1*q3 - 2*q2) - y*(-4*q0**2*q1 - 4*q0*q2*q3 + 2*q1) - z*(-2*q0**3 + 2*q0*q1**2 + 2*q0*q2**2 - 2*q0*q3**2 + 2*q0))*(-D + x*(-2*q0*q2 + 2*q1*q3) + y*(2*q0*q1 + 2*q2*q3) + z*(q0**2 - q1**2 - q2**2 + q3**2))/(x*(-2*q0*q2 + 2*q1*q3) + y*(2*q0*q1 + 2*q2*q3) + z*(q0**2 - q1**2 - q2**2 + q3**2))**2], [D*(px*(x*(q0**2 + q1**2 - q2**2 - q3**2) + y*(-2*q0*q3 + 2*q1*q2) + z*(2*q0*q2 + 2*q1*q3))/rx + px*(x*(-2*q0*q2 + 2*q1*q3) + y*(2*q0*q1 + 2*q2*q3) + z*(q0**2 - q1**2 - q2**2 + q3**2))/(2*D))*(-x*(4*q0*q1*q2 - 4*q1**2*q3 + 2*q3) - y*(-4*q0*q1**2 + 2*q0 - 4*q1*q2*q3) - z*(-2*q0**2*q1 + 2*q1**3 + 2*q1*q2**2 - 2*q1*q3**2 - 2*q1))/(x*(-2*q0*q2 + 2*q1*q3) + y*(2*q0*q1 + 2*q2*q3) + z*(q0**2 - q1**2 - q2**2 + q3**2))**2 + D*(px*(x*(-2*q0**2*q1 - 2*q1**3 + 2*q1*q2**2 + 2*q1*q3**2 + 2*q1) + y*(4*q0*q1*q3 - 4*q1**2*q2 + 2*q2) + z*(-4*q0*q1*q2 - 4*q1**2*q3 + 2*q3))/rx + px*(x*(4*q0*q1*q2 - 4*q1**2*q3 + 2*q3) + y*(-4*q0*q1**2 + 2*q0 - 4*q1*q2*q3) + z*(-2*q0**2*q1 + 2*q1**3 + 2*q1*q2**2 - 2*q1*q3**2 - 2*q1))/(2*D))/(x*(-2*q0*q2 + 2*q1*q3) + y*(2*q0*q1 + 2*q2*q3) + z*(q0**2 - q1**2 - q2**2 + q3**2)), D*(py*(x*(2*q0*q3 + 2*q1*q2) + y*(q0**2 - q1**2 + q2**2 - q3**2) + z*(-2*q0*q1 + 2*q2*q3))/ry + py*(x*(-2*q0*q2 + 2*q1*q3) + y*(2*q0*q1 + 2*q2*q3) + z*(q0**2 - q1**2 - q2**2 + q3**2))/(2*D))*(-x*(4*q0*q1*q2 - 4*q1**2*q3 + 2*q3) - y*(-4*q0*q1**2 + 2*q0 - 4*q1*q2*q3) - z*(-2*q0**2*q1 + 2*q1**3 + 2*q1*q2**2 - 2*q1*q3**2 - 2*q1))/(x*(-2*q0*q2 + 2*q1*q3) + y*(2*q0*q1 + 2*q2*q3) + z*(q0**2 - q1**2 - q2**2 + q3**2))**2 + D*(py*(x*(-4*q0*q1*q3 - 4*q1**2*q2 + 2*q2) + y*(-2*q0**2*q1 + 2*q1**3 - 2*q1*q2**2 + 2*q1*q3**2 - 2*q1) + z*(4*q0*q1**2 - 2*q0 - 4*q1*q2*q3))/ry + py*(x*(4*q0*q1*q2 - 4*q1**2*q3 + 2*q3) + y*(-4*q0*q1**2 + 2*q0 - 4*q1*q2*q3) + z*(-2*q0**2*q1 + 2*q1**3 + 2*q1*q2**2 - 2*q1*q3**2 - 2*q1))/(2*D))/(x*(-2*q0*q2 + 2*q1*q3) + y*(2*q0*q1 + 2*q2*q3) + z*(q0**2 - q1**2 - q2**2 + q3**2)), D*(x*(4*q0*q1*q2 - 4*q1**2*q3 + 2*q3) + y*(-4*q0*q1**2 + 2*q0 - 4*q1*q2*q3) + z*(-2*q0**2*q1 + 2*q1**3 + 2*q1*q2**2 - 2*q1*q3**2 - 2*q1))/(x*(-2*q0*q2 + 2*q1*q3) + y*(2*q0*q1 + 2*q2*q3) + z*(q0**2 - q1**2 - q2**2 + q3**2)) + D*(-x*(4*q0*q1*q2 - 4*q1**2*q3 + 2*q3) - y*(-4*q0*q1**2 + 2*q0 - 4*q1*q2*q3) - z*(-2*q0**2*q1 + 2*q1**3 + 2*q1*q2**2 - 2*q1*q3**2 - 2*q1))*(-D + x*(-2*q0*q2 + 2*q1*q3) + y*(2*q0*q1 + 2*q2*q3) + z*(q0**2 - q1**2 - q2**2 + q3**2))/(x*(-2*q0*q2 + 2*q1*q3) + y*(2*q0*q1 + 2*q2*q3) + z*(q0**2 - q1**2 - q2**2 + q3**2))**2], [D*(px*(x*(q0**2 + q1**2 - q2**2 - q3**2) + y*(-2*q0*q3 + 2*q1*q2) + z*(2*q0*q2 + 2*q1*q3))/rx + px*(x*(-2*q0*q2 + 2*q1*q3) + y*(2*q0*q1 + 2*q2*q3) + z*(q0**2 - q1**2 - q2**2 + q3**2))/(2*D))*(-x*(4*q0*q2**2 - 2*q0 - 4*q1*q2*q3) - y*(-4*q0*q1*q2 - 4*q2**2*q3 + 2*q3) - z*(-2*q0**2*q2 + 2*q1**2*q2 + 2*q2**3 - 2*q2*q3**2 - 2*q2))/(x*(-2*q0*q2 + 2*q1*q3) + y*(2*q0*q1 + 2*q2*q3) + z*(q0**2 - q1**2 - q2**2 + q3**2))**2 + D*(px*(x*(-2*q0**2*q2 - 2*q1**2*q2 + 2*q2**3 + 2*q2*q3**2 - 2*q2) + y*(4*q0*q2*q3 - 4*q1*q2**2 + 2*q1) + z*(-4*q0*q2**2 + 2*q0 - 4*q1*q2*q3))/rx + px*(x*(4*q0*q2**2 - 2*q0 - 4*q1*q2*q3) + y*(-4*q0*q1*q2 - 4*q2**2*q3 + 2*q3) + z*(-2*q0**2*q2 + 2*q1**2*q2 + 2*q2**3 - 2*q2*q3**2 - 2*q2))/(2*D))/(x*(-2*q0*q2 + 2*q1*q3) + y*(2*q0*q1 + 2*q2*q3) + z*(q0**2 - q1**2 - q2**2 + q3**2)), D*(py*(x*(2*q0*q3 + 2*q1*q2) + y*(q0**2 - q1**2 + q2**2 - q3**2) + z*(-2*q0*q1 + 2*q2*q3))/ry + py*(x*(-2*q0*q2 + 2*q1*q3) + y*(2*q0*q1 + 2*q2*q3) + z*(q0**2 - q1**2 - q2**2 + q3**2))/(2*D))*(-x*(4*q0*q2**2 - 2*q0 - 4*q1*q2*q3) - y*(-4*q0*q1*q2 - 4*q2**2*q3 + 2*q3) - z*(-2*q0**2*q2 + 2*q1**2*q2 + 2*q2**3 - 2*q2*q3**2 - 2*q2))/(x*(-2*q0*q2 + 2*q1*q3) + y*(2*q0*q1 + 2*q2*q3) + z*(q0**2 - q1**2 - q2**2 + q3**2))**2 + D*(py*(x*(-4*q0*q2*q3 - 4*q1*q2**2 + 2*q1) + y*(-2*q0**2*q2 + 2*q1**2*q2 - 2*q2**3 + 2*q2*q3**2 + 2*q2) + z*(4*q0*q1*q2 - 4*q2**2*q3 + 2*q3))/ry + py*(x*(4*q0*q2**2 - 2*q0 - 4*q1*q2*q3) + y*(-4*q0*q1*q2 - 4*q2**2*q3 + 2*q3) + z*(-2*q0**2*q2 + 2*q1**2*q2 + 2*q2**3 - 2*q2*q3**2 - 2*q2))/(2*D))/(x*(-2*q0*q2 + 2*q1*q3) + y*(2*q0*q1 + 2*q2*q3) + z*(q0**2 - q1**2 - q2**2 + q3**2)), D*(x*(4*q0*q2**2 - 2*q0 - 4*q1*q2*q3) + y*(-4*q0*q1*q2 - 4*q2**2*q3 + 2*q3) + z*(-2*q0**2*q2 + 2*q1**2*q2 + 2*q2**3 - 2*q2*q3**2 - 2*q2))/(x*(-2*q0*q2 + 2*q1*q3) + y*(2*q0*q1 + 2*q2*q3) + z*(q0**2 - q1**2 - q2**2 + q3**2)) + D*(-x*(4*q0*q2**2 - 2*q0 - 4*q1*q2*q3) - y*(-4*q0*q1*q2 - 4*q2**2*q3 + 2*q3) - z*(-2*q0**2*q2 + 2*q1**2*q2 + 2*q2**3 - 2*q2*q3**2 - 2*q2))*(-D + x*(-2*q0*q2 + 2*q1*q3) + y*(2*q0*q1 + 2*q2*q3) + z*(q0**2 - q1**2 - q2**2 + q3**2))/(x*(-2*q0*q2 + 2*q1*q3) + y*(2*q0*q1 + 2*q2*q3) + z*(q0**2 - q1**2 - q2**2 + q3**2))**2], [D*(px*(x*(q0**2 + q1**2 - q2**2 - q3**2) + y*(-2*q0*q3 + 2*q1*q2) + z*(2*q0*q2 + 2*q1*q3))/rx + px*(x*(-2*q0*q2 + 2*q1*q3) + y*(2*q0*q1 + 2*q2*q3) + z*(q0**2 - q1**2 - q2**2 + q3**2))/(2*D))*(-x*(4*q0*q2*q3 - 4*q1*q3**2 + 2*q1) - y*(-4*q0*q1*q3 - 4*q2*q3**2 + 2*q2) - z*(-2*q0**2*q3 + 2*q1**2*q3 + 2*q2**2*q3 - 2*q3**3 + 2*q3))/(x*(-2*q0*q2 + 2*q1*q3) + y*(2*q0*q1 + 2*q2*q3) + z*(q0**2 - q1**2 - q2**2 + q3**2))**2 + D*(px*(x*(-2*q0**2*q3 - 2*q1**2*q3 + 2*q2**2*q3 + 2*q3**3 - 2*q3) + y*(4*q0*q3**2 - 2*q0 - 4*q1*q2*q3) + z*(-4*q0*q2*q3 - 4*q1*q3**2 + 2*q1))/rx + px*(x*(4*q0*q2*q3 - 4*q1*q3**2 + 2*q1) + y*(-4*q0*q1*q3 - 4*q2*q3**2 + 2*q2) + z*(-2*q0**2*q3 + 2*q1**2*q3 + 2*q2**2*q3 - 2*q3**3 + 2*q3))/(2*D))/(x*(-2*q0*q2 + 2*q1*q3) + y*(2*q0*q1 + 2*q2*q3) + z*(q0**2 - q1**2 - q2**2 + q3**2)), D*(py*(x*(2*q0*q3 + 2*q1*q2) + y*(q0**2 - q1**2 + q2**2 - q3**2) + z*(-2*q0*q1 + 2*q2*q3))/ry + py*(x*(-2*q0*q2 + 2*q1*q3) + y*(2*q0*q1 + 2*q2*q3) + z*(q0**2 - q1**2 - q2**2 + q3**2))/(2*D))*(-x*(4*q0*q2*q3 - 4*q1*q3**2 + 2*q1) - y*(-4*q0*q1*q3 - 4*q2*q3**2 + 2*q2) - z*(-2*q0**2*q3 + 2*q1**2*q3 + 2*q2**2*q3 - 2*q3**3 + 2*q3))/(x*(-2*q0*q2 + 2*q1*q3) + y*(2*q0*q1 + 2*q2*q3) + z*(q0**2 - q1**2 - q2**2 + q3**2))**2 + D*(py*(x*(-4*q0*q3**2 + 2*q0 - 4*q1*q2*q3) + y*(-2*q0**2*q3 + 2*q1**2*q3 - 2*q2**2*q3 + 2*q3**3 - 2*q3) + z*(4*q0*q1*q3 - 4*q2*q3**2 + 2*q2))/ry + py*(x*(4*q0*q2*q3 - 4*q1*q3**2 + 2*q1) + y*(-4*q0*q1*q3 - 4*q2*q3**2 + 2*q2) + z*(-2*q0**2*q3 + 2*q1**2*q3 + 2*q2**2*q3 - 2*q3**3 + 2*q3))/(2*D))/(x*(-2*q0*q2 + 2*q1*q3) + y*(2*q0*q1 + 2*q2*q3) + z*(q0**2 - q1**2 - q2**2 + q3**2)), D*(x*(4*q0*q2*q3 - 4*q1*q3**2 + 2*q1) + y*(-4*q0*q1*q3 - 4*q2*q3**2 + 2*q2) + z*(-2*q0**2*q3 + 2*q1**2*q3 + 2*q2**2*q3 - 2*q3**3 + 2*q3))/(x*(-2*q0*q2 + 2*q1*q3) + y*(2*q0*q1 + 2*q2*q3) + z*(q0**2 - q1**2 - q2**2 + q3**2)) + D*(-x*(4*q0*q2*q3 - 4*q1*q3**2 + 2*q1) - y*(-4*q0*q1*q3 - 4*q2*q3**2 + 2*q2) - z*(-2*q0**2*q3 + 2*q1**2*q3 + 2*q2**2*q3 - 2*q3**3 + 2*q3))*(-D + x*(-2*q0*q2 + 2*q1*q3) + y*(2*q0*q1 + 2*q2*q3) + z*(q0**2 - q1**2 - q2**2 + q3**2))/(x*(-2*q0*q2 + 2*q1*q3) + y*(2*q0*q1 + 2*q2*q3) + z*(q0**2 - q1**2 - q2**2 + q3**2))**2], [D*(2.0*q0*q2 - 2.0*q1*q3)*(px*(x*(q0**2 + q1**2 - q2**2 - q3**2) + y*(-2*q0*q3 + 2*q1*q2) + z*(2*q0*q2 + 2*q1*q3))/rx + px*(x*(-2*q0*q2 + 2*q1*q3) + y*(2*q0*q1 + 2*q2*q3) + z*(q0**2 - q1**2 - q2**2 + q3**2))/(2*D))/(x*(-2*q0*q2 + 2*q1*q3) + y*(2*q0*q1 + 2*q2*q3) + z*(q0**2 - q1**2 - q2**2 + q3**2))**2 + D*(px*(q0**2 + q1**2 - q2**2 - q3**2)/rx + px*(-2.0*q0*q2 + 2.0*q1*q3)/(2*D))/(x*(-2*q0*q2 + 2*q1*q3) + y*(2*q0*q1 + 2*q2*q3) + z*(q0**2 - q1**2 - q2**2 + q3**2)), D*(2.0*q0*q2 - 2.0*q1*q3)*(py*(x*(2*q0*q3 + 2*q1*q2) + y*(q0**2 - q1**2 + q2**2 - q3**2) + z*(-2*q0*q1 + 2*q2*q3))/ry + py*(x*(-2*q0*q2 + 2*q1*q3) + y*(2*q0*q1 + 2*q2*q3) + z*(q0**2 - q1**2 - q2**2 + q3**2))/(2*D))/(x*(-2*q0*q2 + 2*q1*q3) + y*(2*q0*q1 + 2*q2*q3) + z*(q0**2 - q1**2 - q2**2 + q3**2))**2 + D*(py*(2.0*q0*q3 + 2.0*q1*q2)/ry + py*(-2.0*q0*q2 + 2.0*q1*q3)/(2*D))/(x*(-2*q0*q2 + 2*q1*q3) + y*(2*q0*q1 + 2*q2*q3) + z*(q0**2 - q1**2 - q2**2 + q3**2)), D*(-2.0*q0*q2 + 2.0*q1*q3)/(x*(-2*q0*q2 + 2*q1*q3) + y*(2*q0*q1 + 2*q2*q3) + z*(q0**2 - q1**2 - q2**2 + q3**2)) + D*(2.0*q0*q2 - 2.0*q1*q3)*(-D + x*(-2*q0*q2 + 2*q1*q3) + y*(2*q0*q1 + 2*q2*q3) + z*(q0**2 - q1**2 - q2**2 + q3**2))/(x*(-2*q0*q2 + 2*q1*q3) + y*(2*q0*q1 + 2*q2*q3) + z*(q0**2 - q1**2 - q2**2 + q3**2))**2], [D*(-2.0*q0*q1 - 2.0*q2*q3)*(px*(x*(q0**2 + q1**2 - q2**2 - q3**2) + y*(-2*q0*q3 + 2*q1*q2) + z*(2*q0*q2 + 2*q1*q3))/rx + px*(x*(-2*q0*q2 + 2*q1*q3) + y*(2*q0*q1 + 2*q2*q3) + z*(q0**2 - q1**2 - q2**2 + q3**2))/(2*D))/(x*(-2*q0*q2 + 2*q1*q3) + y*(2*q0*q1 + 2*q2*q3) + z*(q0**2 - q1**2 - q2**2 + q3**2))**2 + D*(px*(-2.0*q0*q3 + 2.0*q1*q2)/rx + px*(2.0*q0*q1 + 2.0*q2*q3)/(2*D))/(x*(-2*q0*q2 + 2*q1*q3) + y*(2*q0*q1 + 2*q2*q3) + z*(q0**2 - q1**2 - q2**2 + q3**2)), D*(-2.0*q0*q1 - 2.0*q2*q3)*(py*(x*(2*q0*q3 + 2*q1*q2) + y*(q0**2 - q1**2 + q2**2 - q3**2) + z*(-2*q0*q1 + 2*q2*q3))/ry + py*(x*(-2*q0*q2 + 2*q1*q3) + y*(2*q0*q1 + 2*q2*q3) + z*(q0**2 - q1**2 - q2**2 + q3**2))/(2*D))/(x*(-2*q0*q2 + 2*q1*q3) + y*(2*q0*q1 + 2*q2*q3) + z*(q0**2 - q1**2 - q2**2 + q3**2))**2 + D*(py*(q0**2 - q1**2 + q2**2 - q3**2)/ry + py*(2.0*q0*q1 + 2.0*q2*q3)/(2*D))/(x*(-2*q0*q2 + 2*q1*q3) + y*(2*q0*q1 + 2*q2*q3) + z*(q0**2 - q1**2 - q2**2 + q3**2)), D*(-2.0*q0*q1 - 2.0*q2*q3)*(-D + x*(-2*q0*q2 + 2*q1*q3) + y*(2*q0*q1 + 2*q2*q3) + z*(q0**2 - q1**2 - q2**2 + q3**2))/(x*(-2*q0*q2 + 2*q1*q3) + y*(2*q0*q1 + 2*q2*q3) + z*(q0**2 - q1**2 - q2**2 + q3**2))**2 + D*(2.0*q0*q1 + 2.0*q2*q3)/(x*(-2*q0*q2 + 2*q1*q3) + y*(2*q0*q1 + 2*q2*q3) + z*(q0**2 - q1**2 - q2**2 + q3**2))], [D*(px*(2.0*q0*q2 + 2.0*q1*q3)/rx + px*(q0**2 - q1**2 - q2**2 + q3**2)/(2*D))/(x*(-2*q0*q2 + 2*q1*q3) + y*(2*q0*q1 + 2*q2*q3) + z*(q0**2 - q1**2 - q2**2 + q3**2)) + D*(px*(x*(q0**2 + q1**2 - q2**2 - q3**2) + y*(-2*q0*q3 + 2*q1*q2) + z*(2*q0*q2 + 2*q1*q3))/rx + px*(x*(-2*q0*q2 + 2*q1*q3) + y*(2*q0*q1 + 2*q2*q3) + z*(q0**2 - q1**2 - q2**2 + q3**2))/(2*D))*(-q0**2 + q1**2 + q2**2 - q3**2)/(x*(-2*q0*q2 + 2*q1*q3) + y*(2*q0*q1 + 2*q2*q3) + z*(q0**2 - q1**2 - q2**2 + q3**2))**2, D*(py*(-2.0*q0*q1 + 2.0*q2*q3)/ry + py*(q0**2 - q1**2 - q2**2 + q3**2)/(2*D))/(x*(-2*q0*q2 + 2*q1*q3) + y*(2*q0*q1 + 2*q2*q3) + z*(q0**2 - q1**2 - q2**2 + q3**2)) + D*(py*(x*(2*q0*q3 + 2*q1*q2) + y*(q0**2 - q1**2 + q2**2 - q3**2) + z*(-2*q0*q1 + 2*q2*q3))/ry + py*(x*(-2*q0*q2 + 2*q1*q3) + y*(2*q0*q1 + 2*q2*q3) + z*(q0**2 - q1**2 - q2**2 + q3**2))/(2*D))*(-q0**2 + q1**2 + q2**2 - q3**2)/(x*(-2*q0*q2 + 2*q1*q3) + y*(2*q0*q1 + 2*q2*q3) + z*(q0**2 - q1**2 - q2**2 + q3**2))**2, D*(q0**2 - q1**2 - q2**2 + q3**2)/(x*(-2*q0*q2 + 2*q1*q3) + y*(2*q0*q1 + 2*q2*q3) + z*(q0**2 - q1**2 - q2**2 + q3**2)) + D*(-D + x*(-2*q0*q2 + 2*q1*q3) + y*(2*q0*q1 + 2*q2*q3) + z*(q0**2 - q1**2 - q2**2 + q3**2))*(-q0**2 + q1**2 + q2**2 - q3**2)/(x*(-2*q0*q2 + 2*q1*q3) + y*(2*q0*q1 + 2*q2*q3) + z*(q0**2 - q1**2 - q2**2 + q3**2))**2]])\n"
     ]
    }
   ],
   "source": [
    "rx,ry,px,py = sympy.symbols('rx ry px py')\n",
    "projsym = projFrom(D,rx,ry,px,py)\n",
    "imgxyzSym = world2img(rotMsym,np.eye(4),projsym,np.array([x,y,z,1]))\n",
    "obJacob = sympy.Matrix(imgxyzSym).jacobian([q0,q1,q2,q3,x,y,z]).T\n",
    "print(obJacob.subs(q0**2 + q1**2 + q2**2 + q3**2,1).subs(1.,1))"
   ]
  },
  {
   "cell_type": "code",
   "execution_count": null,
   "metadata": {},
   "outputs": [],
   "source": []
  }
 ],
 "metadata": {
  "kernelspec": {
   "display_name": "Python 3",
   "language": "python",
   "name": "python3"
  },
  "language_info": {
   "codemirror_mode": {
    "name": "ipython",
    "version": 3
   },
   "file_extension": ".py",
   "mimetype": "text/x-python",
   "name": "python",
   "nbconvert_exporter": "python",
   "pygments_lexer": "ipython3",
   "version": "3.7.2"
  }
 },
 "nbformat": 4,
 "nbformat_minor": 1
}
